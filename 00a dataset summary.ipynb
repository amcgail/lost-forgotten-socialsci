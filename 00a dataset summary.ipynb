{
 "cells": [
  {
   "cell_type": "code",
   "execution_count": 1,
   "metadata": {},
   "outputs": [],
   "source": [
    "from knowknow import *"
   ]
  },
  {
   "cell_type": "code",
   "execution_count": 2,
   "metadata": {},
   "outputs": [],
   "source": [
    "from params import *"
   ]
  },
  {
   "cell_type": "code",
   "execution_count": 5,
   "metadata": {},
   "outputs": [
    {
     "name": "stdout",
     "output_type": "stream",
     "text": [
      "loading variable anthro-wos-all/groups from disk\n"
     ]
    }
   ],
   "source": [
    "dball = Dataset(f'{ident}-wos-all')"
   ]
  },
  {
   "cell_type": "code",
   "execution_count": 7,
   "metadata": {},
   "outputs": [
    {
     "name": "stdout",
     "output_type": "stream",
     "text": [
      "loading variable anthro-wos-journalFilter/_attributes from disk\n",
      "loading variable anthro-wos-journalFilter/groups from disk\n",
      "loading variable anthro-wos-journalFilter/group_reps from disk\n"
     ]
    }
   ],
   "source": [
    "db2 = Dataset(f'{ident}-wos-journalFilter')"
   ]
  },
  {
   "cell_type": "code",
   "execution_count": 8,
   "metadata": {},
   "outputs": [
    {
     "name": "stdout",
     "output_type": "stream",
     "text": [
      "loading variable anthro-wos-clean/_attributes from disk\n",
      "loading variable anthro-wos-clean/groups from disk\n",
      "loading variable anthro-wos-clean/group_reps from disk\n"
     ]
    }
   ],
   "source": [
    "db = Dataset(f'{ident}-wos-clean')"
   ]
  },
  {
   "cell_type": "code",
   "execution_count": 9,
   "metadata": {},
   "outputs": [],
   "source": [
    "db.set_attribute('RELIABLE_DATA_STARTS_HERE', 1900)\n",
    "db2.set_attribute('RELIABLE_DATA_STARTS_HERE', 1900)\n",
    "dball.set_attribute('RELIABLE_DATA_STARTS_HERE', 1900)"
   ]
  },
  {
   "cell_type": "markdown",
   "metadata": {},
   "source": [
    "# more uncategorized analysis"
   ]
  },
  {
   "cell_type": "code",
   "execution_count": 10,
   "metadata": {},
   "outputs": [
    {
     "name": "stdout",
     "output_type": "stream",
     "text": [
      "loading variable anthro-wos-all/ind ___ c from disk\n"
     ]
    },
    {
     "data": {
      "text/plain": [
       "['\"Dans, J.|garcon girls 1025 garcon girls 1025',\n",
       " '#Blacklivesmatter, O.|2016|11 maj misc black li',\n",
       " '#Jez3Prez, A.|2012|e misferica,v9',\n",
       " '\\'\"Redbones\", A.|newsweek',\n",
       " \"'Abbasi, I.|dawlat i pahlavi va\",\n",
       " \"'Abd, A.|abd as sahib dukhaiy\",\n",
       " \"'Abd, A.|falsafa al thawra\",\n",
       " \"'Abd, A.|nashwat al tarab fi\",\n",
       " \"'Abdi, I.|al sharq al aws 0612\",\n",
       " \"'Abdulrahman, M.|alakhbar       0125\"]"
      ]
     },
     "execution_count": 10,
     "metadata": {},
     "output_type": "execute_result"
    }
   ],
   "source": [
    "sorted(dball.items('c'))[:10]"
   ]
  },
  {
   "cell_type": "code",
   "execution_count": 11,
   "metadata": {},
   "outputs": [
    {
     "name": "stdout",
     "output_type": "stream",
     "text": [
      "loading variable anthro-wos-all/doc ___ c from disk\n"
     ]
    }
   ],
   "source": [
    "cc_full = dball.by('c').docs"
   ]
  },
  {
   "cell_type": "code",
   "execution_count": 12,
   "metadata": {},
   "outputs": [],
   "source": [
    "#cc = db.by('c').cits\n",
    "cc = None"
   ]
  },
  {
   "cell_type": "code",
   "execution_count": 62,
   "metadata": {},
   "outputs": [],
   "source": [
    "num1 = sum([1 for x,c in cc_full.items() if c == 1])\n",
    "num2 = sum([1 for x,c in cc_full.items() if c in [2,3,4]])\n",
    "num3 = sum([1 for x,c in cc_full.items() if c >= 5])\n",
    "\n",
    "total = sum([1 for x,c in cc_full.items() if c >= 1])\n",
    "total2 = sum(db2.by('fy').docs.values())\n",
    "total3 = len(db2.items('fj'))\n",
    "total4 = sum([c for x,c in cc_full.items() if c >= 1])\n",
    "\n",
    "c1 = num1/total\n",
    "c2 = num2/total\n",
    "c3 = num3/total"
   ]
  },
  {
   "cell_type": "code",
   "execution_count": 63,
   "metadata": {},
   "outputs": [
    {
     "data": {
      "text/plain": [
       "(2271379, 60846, 42, 4588067)"
      ]
     },
     "execution_count": 63,
     "metadata": {},
     "output_type": "execute_result"
    }
   ],
   "source": [
    "total,total2,total3,total4"
   ]
  },
  {
   "cell_type": "code",
   "execution_count": 64,
   "metadata": {},
   "outputs": [],
   "source": [
    "c4 = sum([c for x,c in cc_full.items() if c >= 5]) / sum(cc_full.values())"
   ]
  },
  {
   "cell_type": "code",
   "execution_count": 65,
   "metadata": {},
   "outputs": [
    {
     "data": {
      "text/plain": [
       "2622663"
      ]
     },
     "execution_count": 65,
     "metadata": {},
     "output_type": "execute_result"
    }
   ],
   "source": [
    "sum( db2.by('fj').cits.values() )"
   ]
  },
  {
   "cell_type": "code",
   "execution_count": 66,
   "metadata": {},
   "outputs": [
    {
     "data": {
      "text/plain": [
       "920049"
      ]
     },
     "execution_count": 66,
     "metadata": {},
     "output_type": "execute_result"
    }
   ],
   "source": [
    "sum( db.by('fj').cits.values() )"
   ]
  },
  {
   "cell_type": "code",
   "execution_count": 67,
   "metadata": {},
   "outputs": [],
   "source": [
    "first = min(yy for (yy,),c in db.by('fy').cits.items() if c>0)\n",
    "last = max(yy for (yy,),c in db.by('fy').cits.items() if c>0)"
   ]
  },
  {
   "cell_type": "code",
   "execution_count": 70,
   "metadata": {},
   "outputs": [
    {
     "data": {
      "text/markdown": [
       "\n",
       "\n",
       "Within the 43 anthropology journals which are indexed continuously by WoS (see Appendix B), \n",
       "    I have citations from 60,846 articles published between 1901 and 2022, \n",
       "    4.6M citations in all. \n",
       "Of the 2.3M distinct cited works cited in these articles, \n",
       "    76% received only a single citation, \n",
       "    18% received between 2 and 4 citations, \n",
       "    and 6% received at least 5 citations. \n",
       "However, 41% of citations are to the 6% of cited works which receive at least 5 citations. \n",
       "Typographic errors, alternate spellings, smudges of ink, and quirks of the algorithm \n",
       "    will register as a totally separate cited work, \n",
       "    so this number of once-cited works is an overestimate. \n",
       "But if it is even remotely accurate, \n",
       "    it shows that the relatively uncited get about as much attention as the relatively cited. \n",
       "    \n",
       "In the rest of this paper I focus only on cited works that received at least 5 citations total, \n",
       "    disregarding the totally ignored. \n"
      ],
      "text/plain": [
       "<IPython.core.display.Markdown object>"
      ]
     },
     "metadata": {},
     "output_type": "display_data"
    }
   ],
   "source": [
    "display(Markdown(f\"\"\"\n",
    "\n",
    "Within the {len(db.by('fj').cits)} {ident_written} journals which are indexed continuously by WoS (see Appendix B), \n",
    "    I have citations from {total2:,} articles published between {first} and {last}, \n",
    "    {total4 / 1e6:0.1f}M citations in all. \n",
    "Of the {total / 1e6:0.1f}M distinct cited works cited in these articles, \n",
    "    {c1:.0%} received only a single citation, \n",
    "    {c2:.0%} received between 2 and 4 citations, \n",
    "    and {c3:.0%} received at least 5 citations. \n",
    "However, {c4:.0%} of citations are to the {c3:.0%} of cited works which receive at least 5 citations. \n",
    "Typographic errors, alternate spellings, smudges of ink, and quirks of the algorithm \n",
    "    will register as a totally separate cited work, \n",
    "    so this number of once-cited works is an overestimate. \n",
    "But if it is even remotely accurate, \n",
    "    it shows that the relatively uncited get about as much attention as the relatively cited. \n",
    "    \n",
    "In the rest of this paper I focus only on cited works that received at least 5 citations total, \n",
    "    disregarding the totally ignored. \n",
    "\"\"\"))"
   ]
  },
  {
   "cell_type": "code",
   "execution_count": 71,
   "metadata": {},
   "outputs": [],
   "source": [
    "#display(Markdown(\"\"\"\n",
    "\"\"\"\n",
    "Of the {total:,} distinct cited works cited in {total2:,} Sociology articles in the chosen {total3:,} sociology journals,\n",
    "    {c1:.0%} ({num1:,}) received only a single citation,\n",
    "    {c2:.0%} ({num2:,}) received between 2 and 4 citations,\n",
    "    and {c3:.0%} ({num3:,}) received at least 5 citations.\n",
    "{c4:.0%} of the citations are to the {c3:.0%} which receive at least 5 citations.\n",
    "This is an underestimate, as typographic errors, alternate spellings, smudges of ink, and quirks of the algorithm \n",
    "    will register as a totally separate cited work.\n",
    "But if it's even remotely accurate, it shows that the relatively *uncited* get about as much attention as the relatively *cited*.\n",
    "In this section I focus on the *cited* (discarding any works with less than 5 citations total).\n",
    "This discards errors and one-offs.\n",
    "Typographical errors and nonstandard spellings are excluded unless these become relatively common in this context.\n",
    "And we consider only the references which have any substantive life to speak of.\n",
    "The following analysis is on the {num5:,} remaining cited works.\n",
    "\"\"\";\n",
    "#\"\"\".format(**locals())))"
   ]
  },
  {
   "cell_type": "code",
   "execution_count": 72,
   "metadata": {},
   "outputs": [
    {
     "name": "stderr",
     "output_type": "stream",
     "text": [
      "/tmp/ipykernel_7686/2568122689.py:3: RuntimeWarning: divide by zero encountered in log\n",
      "  plt.plot(yrs, np.log([c[(y,)] for y in yrs]));\n"
     ]
    },
    {
     "data": {
      "image/png": "[encoded data removed]",
      "text/plain": [
       "<Figure size 432x288 with 1 Axes>"
      ]
     },
     "metadata": {},
     "output_type": "display_data"
    }
   ],
   "source": [
    "c = db.by('fy').cits\n",
    "yrs = range(1900,2010,1)\n",
    "plt.plot(yrs, np.log([c[(y,)] for y in yrs]));"
   ]
  },
  {
   "cell_type": "code",
   "execution_count": 73,
   "metadata": {},
   "outputs": [
    {
     "data": {
      "image/png": "[encoded data removed]",
      "text/plain": [
       "<Figure size 432x288 with 1 Axes>"
      ]
     },
     "metadata": {},
     "output_type": "display_data"
    }
   ],
   "source": [
    "c = dball.by('fy').cits\n",
    "yrs = range(1900,2010,1)\n",
    "plt.plot(yrs, np.log([c[(y,)] for y in yrs]));"
   ]
  },
  {
   "cell_type": "markdown",
   "metadata": {},
   "source": [
    "# summary before filtering"
   ]
  },
  {
   "cell_type": "code",
   "execution_count": 74,
   "metadata": {},
   "outputs": [],
   "source": [
    "min_y = min(yy for (yy,),c in db.by('fy').cits.items() if c>0)\n",
    "max_y = max(yy for (yy,),c in db.by('fy').cits.items() if c>0)"
   ]
  },
  {
   "cell_type": "code",
   "execution_count": 75,
   "metadata": {},
   "outputs": [],
   "source": [
    "c1 = sum( dball.by('fy').docs.values() )\n",
    "c2 = len( list(dball.by('fj').docs) )\n",
    "c3 = len( list(db.by('fj').docs) )\n",
    "\n",
    "Nclim = sum( c for (j,),c in dball.by('fj').cits.items() if j in set(db.items('fj')) )\n",
    "Ndlim = sum( c for (j,),c in dball.by('fj').docs.items() if j in set(db.items('fj')) )"
   ]
  },
  {
   "cell_type": "code",
   "execution_count": 77,
   "metadata": {},
   "outputs": [],
   "source": [
    "citN = sum( db.by('fj').cits.values() )\n",
    "citN_m = citN / 1e6\n",
    "docN = sum( db.by('fj').docs.values() )\n",
    "\n",
    "njournals = len(db.items('fj'))"
   ]
  },
  {
   "cell_type": "markdown",
   "metadata": {},
   "source": [
    "Web of Science provides a shortened version of each cited work, which attempts to generalize over reference formats, including references made in the body of the article or in footnotes, \n",
    "    as most were before broad citation format standardization in the late 1960s and early 1970s.\n",
    "Their method of shortening has changed over time, and smudges of ink or typographical errors made by authors result in inconsistencies.\n",
    "I use a grouping algorithm to identify identical references and combine them. See Appendix for details."
   ]
  },
  {
   "cell_type": "code",
   "execution_count": 79,
   "metadata": {},
   "outputs": [
    {
     "data": {
      "text/markdown": [
       "\n",
       "(unused)\n",
       "As of April 2020, there were 115,019 journal articles indexed by Web of Science in the category \"Anthropology,\" distributed across 210 journals.\n",
       "I limit my focus here to the journals which consistently publish anthropology articles with references Web of Science is able to extract.\n",
       "I also exclude journals which were founded after 1995 or which end before 2015.\n",
       "This leaves 43 journals, containing 68,295 articles published between 1901 and 2022, and 2,967,683 total citations.\n"
      ],
      "text/plain": [
       "<IPython.core.display.Markdown object>"
      ]
     },
     "metadata": {},
     "output_type": "display_data"
    }
   ],
   "source": [
    "display(Markdown(\"\"\"\n",
    "(unused)\n",
    "As of April 2020, there were {c1:,} journal articles indexed by Web of Science in the category \"{wos_cat},\" distributed across {c2:,} journals.\n",
    "I limit my focus here to the journals which consistently publish {ident_written} articles with references Web of Science is able to extract.\n",
    "I also exclude journals which were founded after 1995 or which end before 2015.\n",
    "This leaves {c3:,} journals, containing {Ndlim:,} articles published between {min_y} and {max_y}, and {Nclim:,} total citations.\n",
    "\"\"\".format(**locals())))"
   ]
  },
  {
   "cell_type": "code",
   "execution_count": 80,
   "metadata": {},
   "outputs": [],
   "source": [
    "wauthAve = sum( db.by('fa').docs.values() ) / docN\n",
    "cauthAve = sum( db.by('ta').docs.values() ) / docN\n",
    "cworkAve = sum( db.by('c').docs.values() ) / docN"
   ]
  },
  {
   "cell_type": "code",
   "execution_count": 81,
   "metadata": {},
   "outputs": [],
   "source": [
    "cN = len(db.items('c'))\n",
    "faN = len(db.items('fa'))\n",
    "ffaN = len(db.items('ffa'))\n",
    "taN = len(db.items('ta'))"
   ]
  },
  {
   "cell_type": "code",
   "execution_count": 82,
   "metadata": {},
   "outputs": [
    {
     "data": {
      "text/markdown": [
       "\n",
       "(unused) After filtering journals with incomplete or limited data, \n",
       "    grouping cited reference strings by their textual similarity, \n",
       "    and ignoring cited works which receive less than five citations total, \n",
       "    I was left with 62,477 journal articles and 0.9M citations. \n",
       "Across all articles, \n",
       "    there are on average 2.40 writing authors, \n",
       "        12.12 cited authors, \n",
       "        and 14.63 cited works. \n",
       "In total there were \n",
       "    56,401 cited works, \n",
       "    20,983 cited authors, and \n",
       "    60,444 writing authors \n",
       "    (30,179 first authors). \n"
      ],
      "text/plain": [
       "<IPython.core.display.Markdown object>"
      ]
     },
     "metadata": {},
     "output_type": "display_data"
    }
   ],
   "source": [
    "display(Markdown(\"\"\"\n",
    "(unused) After filtering journals with incomplete or limited data, \n",
    "    grouping cited reference strings by their textual similarity, \n",
    "    and ignoring cited works which receive less than five citations total, \n",
    "    I was left with {docN:,} journal articles and {citN_m:0.1f}M citations. \n",
    "Across all articles, \n",
    "    there are on average {wauthAve:0.2f} writing authors, \n",
    "        {cauthAve:0.2f} cited authors, \n",
    "        and {cworkAve:0.2f} cited works. \n",
    "In total there were \n",
    "    {cN:,} cited works, \n",
    "    {taN:,} cited authors, and \n",
    "    {faN:,} writing authors \n",
    "    ({ffaN:,} first authors). \n",
    "\"\"\".format(**locals())))"
   ]
  },
  {
   "cell_type": "code",
   "execution_count": 83,
   "metadata": {},
   "outputs": [],
   "source": [
    "c = db.by('fj').cits\n",
    "d = db.by('fj').docs\n",
    "jmax = max(db.items('fj'), key=lambda x:c[(x,)]/d[(x,)])\n",
    "jmin = min(db.items('fj'), key=lambda x:c[(x,)]/d[(x,)])"
   ]
  },
  {
   "cell_type": "code",
   "execution_count": 84,
   "metadata": {},
   "outputs": [],
   "source": [
    "st_ave = db(fj=jmax).cits / db(fj=jmax).docs\n",
    "soc_ave = db(fj=jmin).cits / db(fj=jmin).docs"
   ]
  },
  {
   "cell_type": "code",
   "execution_count": 85,
   "metadata": {},
   "outputs": [],
   "source": [
    "top5 = sorted( db.items('fj'), key=lambda x: -db(fj=x).cits )[:5]"
   ]
  },
  {
   "cell_type": "code",
   "execution_count": 86,
   "metadata": {},
   "outputs": [],
   "source": [
    "top5str = [\"*{}* ({})\".format(x.title(), db(fj=x).cits) for x in top5]\n",
    "top5str = \", \".join(top5str[:-1]) + \", and \" + top5str[-1]\n",
    "top5prop = sum( db(fj=x).cits for x in top5 ) / sum( db(fj=x).cits for x in db.items('fj') )\n",
    "top5propd = sum( db(fj=x).docs for x in top5 ) / sum( db(fj=x).docs for x in db.items('fj') )"
   ]
  },
  {
   "cell_type": "code",
   "execution_count": 87,
   "metadata": {},
   "outputs": [
    {
     "data": {
      "text/markdown": [
       "\n",
       "*Journal Of Anthropological Archaeology* produces the most citations per article, at 32.5. \n",
       "Meanwhile *Race & Class* produces just 2.9 citations per article. \n",
       "Web of Science provides the most citations for the journals *American Journal Of Physical Anthropology* (118574), *Journal Of Human Evolution* (95386), *Journal Of Archaeological Science* (93944), *Current Anthropology* (49098), and *American Anthropologist* (38429). \n",
       "Together these five journals comprise 43% of all citations (32% of documents) in this dataset.\n"
      ],
      "text/plain": [
       "<IPython.core.display.Markdown object>"
      ]
     },
     "metadata": {},
     "output_type": "display_data"
    }
   ],
   "source": [
    "display(Markdown(f\"\"\"\n",
    "*{jmax.title()}* produces the most citations per article, at {st_ave:0.1f}. \n",
    "Meanwhile *{jmin.title()}* produces just {soc_ave:0.1f} citations per article. \n",
    "Web of Science provides the most citations for the journals {top5str}. \n",
    "Together these five journals comprise {top5prop:0.0%} of all citations ({top5propd:0.0%} of documents) in this dataset.\n",
    "\"\"\"))"
   ]
  },
  {
   "cell_type": "code",
   "execution_count": 88,
   "metadata": {},
   "outputs": [],
   "source": [
    "st = sorted( db2.items('fj'), key=lambda x: -db(fj=x).docs )\n",
    "#st = [x for x in st if x not in {'sociologia'}]\n",
    "top_N = st[0]\n",
    "top_Ny = db2(fj=top_N, fy=2020).docs\n",
    "bot_N = st[-1]\n",
    "bot_Ny = db2(fj=bot_N, fy=2020).docs"
   ]
  },
  {
   "cell_type": "code",
   "execution_count": 89,
   "metadata": {},
   "outputs": [
    {
     "data": {
      "text/markdown": [
       "*Journal Of Archaeological Science* published 124 papers in 2020, while *Journal Of World Prehistory* published just 11"
      ],
      "text/plain": [
       "<IPython.core.display.Markdown object>"
      ]
     },
     "metadata": {},
     "output_type": "display_data"
    }
   ],
   "source": [
    "display(Markdown(f\"*{top_N.title()}* published {top_Ny} papers in 2020, while *{bot_N.title()}* published just {bot_Ny}\"))"
   ]
  },
  {
   "cell_type": "code",
   "execution_count": 90,
   "metadata": {},
   "outputs": [],
   "source": [
    "d50 = sum( db(fy=YY).docs for YY in range(1950,1960) )\n",
    "c50 = sum( db(fy=YY).cits for YY in range(1950,1960) )\n",
    "cd50 = c50/d50\n",
    "j50 = len(set( fj for (fj,fy),c in db.by('fj','fy').cits.items() if c > 0 and fy in range(1950,1960) ))\n",
    "\n",
    "\n",
    "d00 = sum( db(fy=YY).docs for YY in range(2000,2010) )\n",
    "c00 = sum( db(fy=YY).cits for YY in range(2000,2010) )\n",
    "cd00 = c00/d00\n",
    "j00 = len(set( fj for (fj,fy),c in db.by('fj','fy').cits.items() if c > 0 and fy in range(2000,2010) ))\n",
    "\n",
    "d2019 = db(fy=2019).docs"
   ]
  },
  {
   "cell_type": "code",
   "execution_count": 91,
   "metadata": {},
   "outputs": [
    {
     "data": {
      "text/markdown": [
       "\n",
       "(unused) Only 1,109 articles were published in 9 journals from 1950-1959 (5.6 citations per article),\n",
       "    compared to 12,278 articles in 43 journals from 2000-2009 (16.1 citations per article).\n",
       "In 2019 alone there were 1,823 articles published.\n"
      ],
      "text/plain": [
       "<IPython.core.display.Markdown object>"
      ]
     },
     "metadata": {},
     "output_type": "display_data"
    }
   ],
   "source": [
    "display(Markdown(\"\"\"\n",
    "(unused) Only {d50:,} articles were published in {j50:,} journals from 1950-1959 ({cd50:0.1f} citations per article),\n",
    "    compared to {d00:,} articles in {j00:,} journals from 2000-2009 ({cd00:0.1f} citations per article).\n",
    "In 2019 alone there were {d2019:,} articles published.\n",
    "\"\"\".format(**locals())))"
   ]
  },
  {
   "cell_type": "markdown",
   "metadata": {},
   "source": [
    "# citing authors"
   ]
  },
  {
   "cell_type": "code",
   "execution_count": 92,
   "metadata": {},
   "outputs": [],
   "source": [
    "fc = db.by('fa').docs\n",
    "\n",
    "num1 = len(db.items('fa'))\n",
    "num2 = len([_ for (a,),c in fc.items() if c == 1])\n",
    "p2 = num2 / num1\n",
    "\n",
    "an = sorted(fc.items(), key=lambda x:-x[1])\n",
    "an = an[:10]\n",
    "def transa(x):\n",
    "    (x,),c = x\n",
    "    x = x.split(\", \")\n",
    "    return (x[1]+\". \"+x[0]).title() + \" (%s)\"%c\n",
    "an = [transa(x) for x in an]\n",
    "an = \", \".join(an[:-1]) + \" and \" + an[-1]"
   ]
  },
  {
   "cell_type": "code",
   "execution_count": 93,
   "metadata": {},
   "outputs": [
    {
     "data": {
      "text/plain": [
       "614"
      ]
     },
     "execution_count": 93,
     "metadata": {},
     "output_type": "execute_result"
    }
   ],
   "source": [
    "len([y for y in fc.values() if y>20])"
   ]
  },
  {
   "cell_type": "code",
   "execution_count": 94,
   "metadata": {},
   "outputs": [],
   "source": [
    "num3 = len([_ for (a,),c in fc.items() if c >20])\n",
    "num4 = len([_ for (a,),c in fc.items() if c >40])"
   ]
  },
  {
   "cell_type": "code",
   "execution_count": 96,
   "metadata": {},
   "outputs": [
    {
     "data": {
      "text/markdown": [
       "\n",
       "Of the 60,444 authors who published in this context, 37,406 only published a single time (62%).\n",
       "614 authors have published more than 20 papers, and just 105 published more than 40.\n",
       "The top ten publishing first authors are R. Malina (170), F. Salzano (137), M. Richards (111), E. Trinkaus (105), J. Hublin (101), M. Crawford (101), W. Leonard (89), S. Mays (88), C. Ruff (86) and J. Arsuaga (82).\n"
      ],
      "text/plain": [
       "<IPython.core.display.Markdown object>"
      ]
     },
     "metadata": {},
     "output_type": "display_data"
    }
   ],
   "source": [
    "display(Markdown(\"\"\"\n",
    "Of the {num1:,} authors who published in this context, {num2:,} only published a single time ({p2:0.0%}).\n",
    "{num3:,} authors have published more than 20 papers, and just {num4:,} published more than 40.\n",
    "The top ten publishing first authors are {an}.\n",
    "\"\"\".format(**locals())))"
   ]
  },
  {
   "cell_type": "code",
   "execution_count": 97,
   "metadata": {},
   "outputs": [
    {
     "data": {
      "image/png": "[encoded data removed]",
      "text/plain": [
       "<Figure size 432x288 with 1 Axes>"
      ]
     },
     "metadata": {},
     "output_type": "display_data"
    }
   ],
   "source": [
    "plt.hist(fc.values(), bins=50);\n",
    "plt.yscale('log')"
   ]
  },
  {
   "cell_type": "markdown",
   "metadata": {},
   "source": [
    "# cited authors"
   ]
  },
  {
   "cell_type": "code",
   "execution_count": 98,
   "metadata": {},
   "outputs": [],
   "source": [
    "fc = db.by('ta').docs\n",
    "\n",
    "num1 = len(db.items('ta'))\n",
    "num2 = len([_ for (a,),c in fc.items() if c == 5])\n",
    "p2 = num2 / num1\n",
    "\n",
    "an = sorted(fc.items(), key=lambda x:-x[1])\n",
    "an = an[:20]\n",
    "def transa(x):\n",
    "    (x,),c = x\n",
    "    x = x.split(\", \")\n",
    "    return (x[1]+\" \"+x[0]).title() + \" (%s citations)\"%c\n",
    "    #return (x[1]+\" \"+x[0]).title() + \" ({:,} citations)\".format(c)\n",
    "an = [transa(x) for x in an]\n",
    "an = \", \".join(an[:-1]) + \" and \" + an[-1]"
   ]
  },
  {
   "cell_type": "code",
   "execution_count": 99,
   "metadata": {},
   "outputs": [],
   "source": [
    "num3 = len([_ for (a,),c in fc.items() if c >100])\n",
    "p3 = num3/num1\n",
    "num4 = len([_ for (a,),c in fc.items() if c >1000])\n",
    "p4 = num4/num1"
   ]
  },
  {
   "cell_type": "code",
   "execution_count": 100,
   "metadata": {},
   "outputs": [
    {
     "data": {
      "text/markdown": [
       "\n",
       "I have already filtered cited works with less than five citations, so all 20,983 cited authors in this dataset have at least five citations.\n",
       "Of these, 1,922 (9%) were cited less than 10 times, 1,529 (7%) were cited at least 100 times and 18 were cited at least 1000 times in this dataset.\n",
       "The top authors cited in this dataset were L. Binford (1962 citations), P. Bourdieu (1943 citations), M. Foucault (1776 citations), C. Geertz (1680 citations), J. Tanner (1467 citations), M. Sahlins (1330 citations), J. Scott (1313 citations), C. Lovejoy (1268 citations), A. Appadurai (1244 citations), C. Levi-Strauss (1189 citations), J. Comaroff (1081 citations), C. Ruff (1070 citations), T. White (1063 citations), R. Sokal (1058 citations), V. Turner (1028 citations), R. Martin (1023 citations), M. Strathern (1018 citations), B. Smith (1017 citations), E. Wolf (959 citations) and E. Trinkaus (956 citations).\n"
      ],
      "text/plain": [
       "<IPython.core.display.Markdown object>"
      ]
     },
     "metadata": {},
     "output_type": "display_data"
    }
   ],
   "source": [
    "display(Markdown(\"\"\"\n",
    "I have already filtered cited works with less than five citations, so all {num1:,} cited authors in this dataset have at least five citations.\n",
    "Of these, {num2:,} ({p2:0.0%}) were cited less than 10 times, {num3:,} ({p3:0.0%}) were cited at least 100 times and {num4} were cited at least 1000 times in this dataset.\n",
    "The top authors cited in this dataset were {an}.\n",
    "\"\"\".format(**locals())))"
   ]
  },
  {
   "cell_type": "markdown",
   "metadata": {},
   "source": [
    "# cited works"
   ]
  },
  {
   "cell_type": "code",
   "execution_count": 101,
   "metadata": {},
   "outputs": [
    {
     "name": "stdout",
     "output_type": "stream",
     "text": [
      "Bourdieu, P. - outline theory pract\n",
      "Anderson, B. - imagined communities\n",
      "Sokal, R. - biometry\n",
      "Geertz, C. - interpretation cultu,v5019\n",
      "Ortner, D. - identification patho\n",
      "Foucault, M. - discipline punish bi\n",
      "Lovejoy, C. - am j phys anthropol,v68,p15\n",
      "Binford, L. - bones ancient men mo\n",
      "Mauss, M. - gift forms functions\n",
      "Levi-Strauss, C. - elementary structure\n"
     ]
    }
   ],
   "source": [
    "fc = db.by('c').docs\n",
    "\n",
    "num1 = len(db.items('c'))\n",
    "num2 = len([_ for (a,),c in fc.items() if c == 5])\n",
    "p2 = num2 / num1\n",
    "\n",
    "an = sorted(fc.items(), key=lambda x:-x[1])\n",
    "an = an[:10]\n",
    "def transa(x):\n",
    "    (x,),c = x\n",
    "    x = x.split(\"|\")\n",
    "    if len(x)==2:\n",
    "        a,w = x\n",
    "        #return (\"%s (??)\"%a).title() + \" (%s citations)\"%c\n",
    "    elif len(x)==3:\n",
    "        a,y,w = x\n",
    "        #return (\"%s (%s)\"%(a,y)).title() + \" (%s citations)\"%c\n",
    "    print (a, \"-\", w)\n",
    "    a = a.split(\",\")[0]\n",
    "    a = a.title()\n",
    "    a = a+\"'s\"\n",
    "    \n",
    "    w = w.title()\n",
    "    return (\"%s *%s* (%s)\"%(a,w,c))\n",
    "    #return (x[1]+\" \"+x[0]).title() + \" ({:,} citations)\".format(c)\n",
    "an = [transa(x) for x in an]\n",
    "an = \", \".join(an[:-1]) + \" and \" + an[-1]"
   ]
  },
  {
   "cell_type": "code",
   "execution_count": 102,
   "metadata": {},
   "outputs": [],
   "source": [
    "num3 = len([_ for (a,),c in fc.items() if c >100])\n",
    "p3 = num3/num1\n",
    "num4 = len([_ for (a,),c in fc.items() if c >1000])\n",
    "p4 = num4/num1"
   ]
  },
  {
   "cell_type": "code",
   "execution_count": 103,
   "metadata": {},
   "outputs": [
    {
     "data": {
      "text/markdown": [
       "\n",
       "All 56,401 cited works in this dataset have at least five citations.\n",
       "Of these, 6,051 (11%) were cited less than 10 times, 557 (1%) were cited at least 100 times and 0 were cited at least 1000 times in this dataset.\n",
       "The top cited works in this dataset were Bourdieu's *Outline Theory Pract* (956), Anderson's *Imagined Communities* (754), Sokal's *Biometry* (693), Geertz's *Interpretation Cultu,V5019* (596), Ortner's *Identification Patho* (571), Foucault's *Discipline Punish Bi* (569), Lovejoy's *Am J Phys Anthropol,V68,P15* (559), Binford's *Bones Ancient Men Mo* (504), Mauss's *Gift Forms Functions* (497) and Levi-Strauss's *Elementary Structure* (481).\n"
      ],
      "text/plain": [
       "<IPython.core.display.Markdown object>"
      ]
     },
     "metadata": {},
     "output_type": "display_data"
    }
   ],
   "source": [
    "display(Markdown(\"\"\"\n",
    "All {num1:,} cited works in this dataset have at least five citations.\n",
    "Of these, {num2:,} ({p2:0.0%}) were cited less than 10 times, {num3:,} ({p3:0.0%}) were cited at least 100 times and {num4} were cited at least 1000 times in this dataset.\n",
    "The top cited works in this dataset were {an}.\n",
    "\"\"\".format(**locals())))"
   ]
  }
 ],
 "metadata": {
  "kernelspec": {
   "display_name": "Python 3 (ipykernel)",
   "language": "python",
   "name": "python3"
  },
  "language_info": {
   "codemirror_mode": {
    "name": "ipython",
    "version": 3
   },
   "file_extension": ".py",
   "mimetype": "text/x-python",
   "name": "python",
   "nbconvert_exporter": "python",
   "pygments_lexer": "ipython3",
   "version": "3.9.7"
  },
  "toc-showmarkdowntxt": true
 },
 "nbformat": 4,
 "nbformat_minor": 4
}
