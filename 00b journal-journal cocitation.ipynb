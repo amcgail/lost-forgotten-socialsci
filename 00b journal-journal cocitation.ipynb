{
 "cells": [
  {
   "cell_type": "code",
   "execution_count": 1,
   "metadata": {},
   "outputs": [],
   "source": [
    "from knowknow import *"
   ]
  },
  {
   "cell_type": "code",
   "execution_count": 2,
   "metadata": {},
   "outputs": [],
   "source": [
    "from params import *"
   ]
  },
  {
   "cell_type": "code",
   "execution_count": 3,
   "metadata": {},
   "outputs": [
    {
     "name": "stdout",
     "output_type": "stream",
     "text": [
      "loading variable anthro-wos-clean/_attributes from disk\n",
      "loading variable anthro-wos-clean/groups from disk\n",
      "loading variable anthro-wos-clean/group_reps from disk\n"
     ]
    }
   ],
   "source": [
    "from load_db import db"
   ]
  },
  {
   "cell_type": "code",
   "execution_count": 4,
   "metadata": {},
   "outputs": [
    {
     "name": "stdout",
     "output_type": "stream",
     "text": [
      "loading variable anthro-wos-clean/ind ___ c.fj from disk\n"
     ]
    }
   ],
   "source": [
    "cnt = db.by('c','fj').cits"
   ]
  },
  {
   "cell_type": "code",
   "execution_count": 5,
   "metadata": {},
   "outputs": [
    {
     "name": "stdout",
     "output_type": "stream",
     "text": [
      "loading variable anthro-wos-clean/ind ___ fj from disk\n"
     ]
    }
   ],
   "source": [
    "jj_counter = defaultdict(int)\n",
    "\n",
    "for j1 in db.items('fj'):\n",
    "    \n",
    "    for (c2,j2),count2 in cnt.items():\n",
    "        \n",
    "        # undirected edges\n",
    "        if j1 >= j2:\n",
    "            continue\n",
    "        \n",
    "        if (c2,j1) not in cnt:\n",
    "            continue\n",
    "            \n",
    "        count1 = cnt[(c2,j1)]\n",
    "        cc = count1 * count2\n",
    "        \n",
    "        jj_counter[(j1,j2)] += cc"
   ]
  },
  {
   "cell_type": "code",
   "execution_count": 6,
   "metadata": {},
   "outputs": [],
   "source": [
    "# cosine similarity\n",
    "jmag = {j: np.sqrt(\n",
    "    np.sum([\n",
    "        count**2\n",
    "        for (_,fj),count in cnt.items() \n",
    "        if fj==j\n",
    "    ])\n",
    ") for j in db.items('fj')}"
   ]
  },
  {
   "cell_type": "code",
   "execution_count": 7,
   "metadata": {},
   "outputs": [],
   "source": [
    "from csv import writer\n",
    "Path('data').mkdir(exist_ok=True)\n",
    "with open('data/jj_net.csv', 'w', encoding='utf8') as cf:\n",
    "    w = writer(cf)\n",
    "    w.writerow(['Source','Target','weight'])\n",
    "    for (j1,j2),c in jj_counter.items():\n",
    "        w.writerow([j1,j2,c / (jmag[j1]*jmag[j2])])"
   ]
  },
  {
   "cell_type": "markdown",
   "metadata": {},
   "source": [
    "# yearly slices of journal structure?"
   ]
  },
  {
   "cell_type": "code",
   "execution_count": 8,
   "metadata": {},
   "outputs": [
    {
     "name": "stdout",
     "output_type": "stream",
     "text": [
      "loading variable anthro-wos-clean/doc ___ c.fj.fy from disk\n"
     ]
    }
   ],
   "source": [
    "jc = db.by('c','fj','fy').docs"
   ]
  },
  {
   "cell_type": "code",
   "execution_count": 9,
   "metadata": {},
   "outputs": [],
   "source": [
    "jj_counter = defaultdict(int)\n",
    "\n",
    "for j1 in db.items('fj'):\n",
    "    \n",
    "    for (c2,j2,y2),count2 in jc.items():\n",
    "        \n",
    "        # undirected edges\n",
    "        if j1 >= j2:\n",
    "            continue\n",
    "        \n",
    "        if (c2,j1,y2) not in jc:\n",
    "            continue\n",
    "            \n",
    "        count1 = jc[(c2,j1,y2)]\n",
    "        cc = count1 * count2\n",
    "        \n",
    "        jj_counter[(j1,j2,y2)] += cc"
   ]
  },
  {
   "cell_type": "code",
   "execution_count": 10,
   "metadata": {},
   "outputs": [],
   "source": [
    "# individual files\n",
    "for YY in range(1960,2010,5):\n",
    "    \n",
    "    yys = range(YY,YY+5)\n",
    "\n",
    "    # cosine similarity\n",
    "    jmag = {j: np.sqrt(\n",
    "        np.sum([\n",
    "            count**2\n",
    "            for (_,fj,fy),count in jc.items() \n",
    "            if fj==j and fy in yys\n",
    "        ])\n",
    "    ) for j in db.items('fj')}\n",
    "\n",
    "    from csv import writer\n",
    "    \n",
    "    with open('jj_net_%s.csv' % YY, 'w', encoding='utf8') as cf:\n",
    "        w = writer(cf)\n",
    "        w.writerow(['Source','Target','weight'])\n",
    "        \n",
    "        collapse = defaultdict(int)\n",
    "        for (j1,j2,y), c in jj_counter.items():\n",
    "            if y not in yys:\n",
    "                continue\n",
    "                \n",
    "            collapse[(j1,j2)] += c\n",
    "        \n",
    "        for (j1,j2),c in collapse.items():\n",
    "            w.writerow([j1,j2,c / (jmag[j1]*jmag[j2])])"
   ]
  },
  {
   "cell_type": "code",
   "execution_count": 11,
   "metadata": {},
   "outputs": [],
   "source": [
    "from csv import writer        \n",
    "\n",
    "with open('jj_net_TIME.csv', 'w', encoding='utf8') as cf:\n",
    "    w = writer(cf)\n",
    "    w.writerow(['Source','Target','weight','when_start','when_end'])\n",
    "\n",
    "    # individual files\n",
    "    for YY in range(1960,2020,5):\n",
    "\n",
    "        yys = range(YY,YY+5)\n",
    "\n",
    "        # cosine similarity\n",
    "        jmag = {j: np.sqrt(\n",
    "            np.sum([\n",
    "                count**2\n",
    "                for (_,fj,fy),count in jc.items() \n",
    "                if fj==j and fy in yys\n",
    "            ])\n",
    "        ) for j in db.items('fj')}\n",
    "\n",
    "        collapse = defaultdict(int)\n",
    "        for (j1,j2,y), c in jj_counter.items():\n",
    "            if y not in yys:\n",
    "                continue\n",
    "                \n",
    "            collapse[(j1,j2)] += c\n",
    "        \n",
    "        for (j1,j2),c in collapse.items():\n",
    "            w.writerow([j1,j2,c / (jmag[j1]*jmag[j2]), YY, YY+5])"
   ]
  },
  {
   "cell_type": "code",
   "execution_count": 12,
   "metadata": {},
   "outputs": [],
   "source": [
    "net = pd.read_csv('jj_net_TIME.csv')"
   ]
  },
  {
   "cell_type": "markdown",
   "metadata": {},
   "source": [
    "## first determine overall arrangement"
   ]
  },
  {
   "cell_type": "code",
   "execution_count": 17,
   "metadata": {},
   "outputs": [],
   "source": [
    "G = nx.Graph()\n",
    "\n",
    "for i,r in net.iterrows():\n",
    "    if r.weight < 0.05:\n",
    "        continue\n",
    "    G.add_edge(r.Source, r.Target, weight=r.weight)"
   ]
  },
  {
   "cell_type": "code",
   "execution_count": 19,
   "metadata": {},
   "outputs": [
    {
     "ename": "ModuleNotFoundError",
     "evalue": "No module named 'fa2'",
     "output_type": "error",
     "traceback": [
      "\u001b[0;31m---------------------------------------------------------------------------\u001b[0m",
      "\u001b[0;31mModuleNotFoundError\u001b[0m                       Traceback (most recent call last)",
      "\u001b[0;32m/tmp/ipykernel_7855/1461151079.py\u001b[0m in \u001b[0;36m<module>\u001b[0;34m\u001b[0m\n\u001b[0;32m----> 1\u001b[0;31m \u001b[0;32mfrom\u001b[0m \u001b[0mfa2\u001b[0m \u001b[0;32mimport\u001b[0m \u001b[0mForceAtlas2\u001b[0m\u001b[0;34m\u001b[0m\u001b[0;34m\u001b[0m\u001b[0m\n\u001b[0m\u001b[1;32m      2\u001b[0m \u001b[0;34m\u001b[0m\u001b[0m\n\u001b[1;32m      3\u001b[0m forceatlas2 = ForceAtlas2(\n\u001b[1;32m      4\u001b[0m                         \u001b[0;31m# Behavior alternatives\u001b[0m\u001b[0;34m\u001b[0m\u001b[0;34m\u001b[0m\u001b[0m\n\u001b[1;32m      5\u001b[0m                         \u001b[0moutboundAttractionDistribution\u001b[0m\u001b[0;34m=\u001b[0m\u001b[0;32mTrue\u001b[0m\u001b[0;34m,\u001b[0m  \u001b[0;31m# Dissuade hubs\u001b[0m\u001b[0;34m\u001b[0m\u001b[0;34m\u001b[0m\u001b[0m\n",
      "\u001b[0;31mModuleNotFoundError\u001b[0m: No module named 'fa2'"
     ]
    }
   ],
   "source": [
    "from fa2 import ForceAtlas2\n",
    "\n",
    "forceatlas2 = ForceAtlas2(\n",
    "                        # Behavior alternatives\n",
    "                        outboundAttractionDistribution=True,  # Dissuade hubs\n",
    "                        linLogMode=False,  # NOT IMPLEMENTED\n",
    "                        adjustSizes=False,  # Prevent overlap (NOT IMPLEMENTED)\n",
    "                        edgeWeightInfluence=1.0,\n",
    "\n",
    "                        # Performance\n",
    "                        jitterTolerance=1.0,  # Tolerance\n",
    "                        barnesHutOptimize=True,\n",
    "                        barnesHutTheta=1.2,\n",
    "                        multiThreaded=False,  # NOT IMPLEMENTED\n",
    "\n",
    "                        # Tuning\n",
    "                        scalingRatio=3.0,\n",
    "                        strongGravityMode=False,\n",
    "                        gravity=1.0,\n",
    "\n",
    "                        # Log\n",
    "                        verbose=True)\n",
    "\n",
    "positions = forceatlas2.forceatlas2_networkx_layout(G, pos=None, iterations=2000)\n",
    "nx.draw_networkx_nodes(G, positions, node_size=20, with_labels=False, node_color=\"blue\", alpha=0.4)\n",
    "nx.draw_networkx_edges(G, positions, edge_color=\"green\", alpha=0.05)\n",
    "plt.axis('off')\n",
    "save_lim = (plt.xlim(), plt.ylim())\n",
    "plt.show()"
   ]
  },
  {
   "cell_type": "code",
   "execution_count": null,
   "metadata": {},
   "outputs": [],
   "source": [
    "save_lim"
   ]
  },
  {
   "cell_type": "markdown",
   "metadata": {},
   "source": [
    "## now plot subsets"
   ]
  },
  {
   "cell_type": "code",
   "execution_count": 15,
   "metadata": {},
   "outputs": [
    {
     "name": "stdout",
     "output_type": "stream",
     "text": [
      "loading variable anthro-wos-clean/ind ___ fj.fy from disk\n"
     ]
    },
    {
     "ename": "NameError",
     "evalue": "name 'positions' is not defined",
     "output_type": "error",
     "traceback": [
      "\u001b[0;31m---------------------------------------------------------------------------\u001b[0m",
      "\u001b[0;31mNameError\u001b[0m                                 Traceback (most recent call last)",
      "\u001b[0;32m/tmp/ipykernel_7855/4256667996.py\u001b[0m in \u001b[0;36m<module>\u001b[0;34m\u001b[0m\n\u001b[1;32m     24\u001b[0m         \u001b[0msmax_orig\u001b[0m \u001b[0;34m=\u001b[0m \u001b[0mmax\u001b[0m\u001b[0;34m(\u001b[0m\u001b[0msizes\u001b[0m\u001b[0;34m.\u001b[0m\u001b[0mvalues\u001b[0m\u001b[0;34m(\u001b[0m\u001b[0;34m)\u001b[0m\u001b[0;34m)\u001b[0m\u001b[0;34m\u001b[0m\u001b[0;34m\u001b[0m\u001b[0m\n\u001b[1;32m     25\u001b[0m \u001b[0;34m\u001b[0m\u001b[0m\n\u001b[0;32m---> 26\u001b[0;31m     \u001b[0mnx\u001b[0m\u001b[0;34m.\u001b[0m\u001b[0mdraw_networkx_nodes\u001b[0m\u001b[0;34m(\u001b[0m\u001b[0mG\u001b[0m\u001b[0;34m,\u001b[0m \u001b[0mpositions\u001b[0m\u001b[0;34m,\u001b[0m \u001b[0mnodelist\u001b[0m\u001b[0;34m=\u001b[0m\u001b[0mzero_deg\u001b[0m\u001b[0;34m,\u001b[0m \u001b[0mnode_size\u001b[0m\u001b[0;34m=\u001b[0m\u001b[0;34m[\u001b[0m\u001b[0msizes\u001b[0m\u001b[0;34m[\u001b[0m\u001b[0mx\u001b[0m\u001b[0;34m]\u001b[0m\u001b[0;34m*\u001b[0m\u001b[0;36m20\u001b[0m\u001b[0;34m/\u001b[0m\u001b[0msmax_orig\u001b[0m \u001b[0;32mfor\u001b[0m \u001b[0mx\u001b[0m \u001b[0;32min\u001b[0m \u001b[0mzero_deg\u001b[0m\u001b[0;34m]\u001b[0m\u001b[0;34m,\u001b[0m \u001b[0mwith_labels\u001b[0m\u001b[0;34m=\u001b[0m\u001b[0;32mFalse\u001b[0m\u001b[0;34m,\u001b[0m \u001b[0mnode_color\u001b[0m\u001b[0;34m=\u001b[0m\u001b[0;34m\"black\"\u001b[0m\u001b[0;34m,\u001b[0m \u001b[0malpha\u001b[0m\u001b[0;34m=\u001b[0m\u001b[0;36m1\u001b[0m\u001b[0;34m)\u001b[0m\u001b[0;34m\u001b[0m\u001b[0;34m\u001b[0m\u001b[0m\n\u001b[0m\u001b[1;32m     27\u001b[0m     \u001b[0mnx\u001b[0m\u001b[0;34m.\u001b[0m\u001b[0mdraw_networkx_nodes\u001b[0m\u001b[0;34m(\u001b[0m\u001b[0mG\u001b[0m\u001b[0;34m,\u001b[0m \u001b[0mpositions\u001b[0m\u001b[0;34m,\u001b[0m \u001b[0mnodelist\u001b[0m\u001b[0;34m=\u001b[0m\u001b[0mnonzero_deg\u001b[0m\u001b[0;34m,\u001b[0m \u001b[0mnode_size\u001b[0m\u001b[0;34m=\u001b[0m\u001b[0;34m[\u001b[0m\u001b[0msizes\u001b[0m\u001b[0;34m[\u001b[0m\u001b[0mx\u001b[0m\u001b[0;34m]\u001b[0m\u001b[0;34m*\u001b[0m\u001b[0;36m20\u001b[0m\u001b[0;34m/\u001b[0m\u001b[0msmax_orig\u001b[0m \u001b[0;32mfor\u001b[0m \u001b[0mx\u001b[0m \u001b[0;32min\u001b[0m \u001b[0mnonzero_deg\u001b[0m\u001b[0;34m]\u001b[0m\u001b[0;34m,\u001b[0m \u001b[0mwith_labels\u001b[0m\u001b[0;34m=\u001b[0m\u001b[0;32mFalse\u001b[0m\u001b[0;34m,\u001b[0m \u001b[0mnode_color\u001b[0m\u001b[0;34m=\u001b[0m\u001b[0;34m\"blue\"\u001b[0m\u001b[0;34m,\u001b[0m \u001b[0malpha\u001b[0m\u001b[0;34m=\u001b[0m\u001b[0;36m0.8\u001b[0m\u001b[0;34m)\u001b[0m\u001b[0;34m\u001b[0m\u001b[0;34m\u001b[0m\u001b[0m\n\u001b[1;32m     28\u001b[0m \u001b[0;34m\u001b[0m\u001b[0m\n",
      "\u001b[0;31mNameError\u001b[0m: name 'positions' is not defined"
     ]
    },
    {
     "data": {
      "text/plain": [
       "<Figure size 1008x1008 with 0 Axes>"
      ]
     },
     "metadata": {},
     "output_type": "display_data"
    }
   ],
   "source": [
    "smax_orig = None\n",
    "\n",
    "for YY in range(1960,2020,5):\n",
    "\n",
    "    G = nx.Graph()\n",
    "    for i,r in net[net.when_start==YY].iterrows():\n",
    "        if r.weight < 0.10:\n",
    "            continue\n",
    "            \n",
    "        G.add_edge(r.Source, r.Target, weight=r.weight)\n",
    "\n",
    "    zero_deg = [n for n,c in dict(nx.degree(G)).items() if c == 0]\n",
    "    zero_deg = [x for x in zero_deg if x in positions]\n",
    "    nonzero_deg = [n for n,c in dict(nx.degree(G)).items() if c != 0]\n",
    "    #G.remove_nodes_from(zero_deg)\n",
    "    \n",
    "    plt.figure(figsize=(14,14))\n",
    "    \n",
    "    edges,weights = zip(*nx.get_edge_attributes(G,'weight').items())\n",
    "    \n",
    "    sizes = {x: sum([db(fy=yyy, fj=x).cits for yyy in range(YY,YY+5)]) for x in zero_deg+nonzero_deg}\n",
    "    \n",
    "    if smax_orig is None:\n",
    "        smax_orig = max(sizes.values())\n",
    "\n",
    "    nx.draw_networkx_nodes(G, positions, nodelist=zero_deg, node_size=[sizes[x]*20/smax_orig for x in zero_deg], with_labels=False, node_color=\"black\", alpha=1)\n",
    "    nx.draw_networkx_nodes(G, positions, nodelist=nonzero_deg, node_size=[sizes[x]*20/smax_orig for x in nonzero_deg], with_labels=False, node_color=\"blue\", alpha=0.8)\n",
    "    \n",
    "    nx.draw_networkx_edges(G, positions, edges=edges, edge_color=weights, alpha=0.5, edge_cmap=plt.cm.Blues)\n",
    "\n",
    "    #ss = list(zip(*[(e,w) for e,w in nx.get_edge_attributes(G,'weight').items() if w>0.15]))\n",
    "    #if len(ss):\n",
    "    #    sedges,sweights = ss\n",
    "    #    nx.draw_networkx_edges(G, positions, edgelist=sedges, edge_color=list(sweights), alpha=1)\n",
    "        \n",
    "    #top10 = Counter(dict(nx.degree(G, weight='weight'))).most_common(10)\n",
    "    #top10 = [x[0] for x in top10]\n",
    "    \n",
    "    top10 = sorted(nonzero_deg, key=lambda x:-sizes[x])[:10]\n",
    "    \n",
    "    pos_higher = {}\n",
    "    y_off = 15  # offset on the y axis\n",
    "    for k, v in positions.items():\n",
    "        pos_higher[k] = (v[0], v[1]+y_off)\n",
    "    \n",
    "    labels = {k:k for k in top10}\n",
    "    #Now only add labels to the nodes you require (the hubs in my case)\n",
    "    nx.draw_networkx_labels(G,pos_higher,labels,font_size=7,font_color='r')\n",
    "    \n",
    "        \n",
    "    plt.title(YY)\n",
    "    plt.axis('off')\n",
    "    plt.xlim(*save_lim[0])\n",
    "    plt.ylim(*save_lim[1])\n",
    "    \n",
    "    db.save_figure('net.%s.png' % YY)\n",
    "    \n",
    "    plt.show()"
   ]
  },
  {
   "cell_type": "code",
   "execution_count": null,
   "metadata": {},
   "outputs": [],
   "source": [
    "nx.draw_networkx_nodes(G, positions, node_size=20, with_labels=False, node_color=\"blue\", alpha=0.4)\n",
    "nx.draw_networkx_edges(G, positions, edge_color=\"green\", alpha=0.05)\n",
    "plt.axis('off')\n",
    "plt.show()"
   ]
  }
 ],
 "metadata": {
  "kernelspec": {
   "display_name": "Python 3 (ipykernel)",
   "language": "python",
   "name": "python3"
  },
  "language_info": {
   "codemirror_mode": {
    "name": "ipython",
    "version": 3
   },
   "file_extension": ".py",
   "mimetype": "text/x-python",
   "name": "python",
   "nbconvert_exporter": "python",
   "pygments_lexer": "ipython3",
   "version": "3.9.7"
  }
 },
 "nbformat": 4,
 "nbformat_minor": 4
}
