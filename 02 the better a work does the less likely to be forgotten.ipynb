{
 "cells": [
  {
   "cell_type": "code",
   "execution_count": 1,
   "metadata": {},
   "outputs": [],
   "source": [
    "from knowknow import *"
   ]
  },
  {
   "cell_type": "code",
   "execution_count": 2,
   "metadata": {},
   "outputs": [],
   "source": [
    "from params import *"
   ]
  },
  {
   "cell_type": "code",
   "execution_count": 3,
   "metadata": {},
   "outputs": [
    {
     "name": "stdout",
     "output_type": "stream",
     "text": [
      "loading variable anthro-wos-clean/_attributes from disk\n",
      "loading variable anthro-wos-clean/groups from disk\n",
      "loading variable anthro-wos-clean/group_reps from disk\n"
     ]
    }
   ],
   "source": [
    "from load_db import db"
   ]
  },
  {
   "cell_type": "code",
   "execution_count": 4,
   "metadata": {},
   "outputs": [],
   "source": [
    "focus_start = 1980\n",
    "focus_end = 1990"
   ]
  },
  {
   "cell_type": "code",
   "execution_count": 5,
   "metadata": {},
   "outputs": [
    {
     "name": "stdout",
     "output_type": "stream",
     "text": [
      "loading variable anthro-wos-clean/ind ___ c from disk\n",
      "loading variable anthro-wos-clean/ind ___ c.fy from disk\n",
      "loading variable anthro-wos-clean/ind ___ fy from disk\n"
     ]
    }
   ],
   "source": [
    "total = 0\n",
    "died = 0\n",
    "died1 = 0\n",
    "\n",
    "min_top_cited = float('inf')\n",
    "all_avgbet = []\n",
    "all_totals = []\n",
    "\n",
    "for name in db.items('c'):\n",
    "    tt = db.trend('c', name)\n",
    "    \n",
    "    all_totals.append( (name, tt.sum_between(focus_start,focus_end)) )\n",
    "    \n",
    "    # only count among works that are cited at least 5 times in focus_start-focus_end\n",
    "    range1 = tt.sum_between(focus_start,focus_end) \n",
    "    if range1 < 5:\n",
    "        continue        \n",
    "        \n",
    "    total += 1\n",
    "    \n",
    "    #range1 = min(min_top_cited, )\n",
    "    B,D = tt.births_deaths(death_cutoff=0.1)\n",
    "    B1,D1 = tt.births_deaths(death_cutoff=0)\n",
    "    \n",
    "    # did they die?\n",
    "    if len(D):\n",
    "        if D[-1] >= focus_start:\n",
    "            died += 1\n",
    "    # did they die?\n",
    "    if len(D1):\n",
    "        if D1[-1] >= focus_start:\n",
    "            died1 += 1\n",
    "            \n",
    "    # how are they doing now?\n",
    "    ab = tt.avg_between(2005,2015)\n",
    "    all_avgbet.append(ab)"
   ]
  },
  {
   "cell_type": "code",
   "execution_count": 6,
   "metadata": {},
   "outputs": [],
   "source": [
    "prop1 = died / total"
   ]
  },
  {
   "cell_type": "code",
   "execution_count": 7,
   "metadata": {},
   "outputs": [],
   "source": [
    "prop2 = died1 / total"
   ]
  },
  {
   "cell_type": "code",
   "execution_count": 8,
   "metadata": {},
   "outputs": [],
   "source": [
    "prop3 = sum( np.array(all_avgbet) < 1e-8 ) / len(all_avgbet)"
   ]
  },
  {
   "cell_type": "code",
   "execution_count": 9,
   "metadata": {},
   "outputs": [
    {
     "data": {
      "text/plain": [
       "(0.5224071702944942, 0.4714753165457391, 0.2112676056338028)"
      ]
     },
     "execution_count": 9,
     "metadata": {},
     "output_type": "execute_result"
    }
   ],
   "source": [
    "prop1, prop2, prop3"
   ]
  },
  {
   "cell_type": "code",
   "execution_count": 10,
   "metadata": {},
   "outputs": [
    {
     "data": {
      "text/markdown": [
       "\n",
       "47% of works that got at least 5 citations between 1980 and 1990\n",
       "    went at least a decade without being cited.\n",
       "21% were not cited whatsoever between 2005 and 2015.\n"
      ],
      "text/plain": [
       "<IPython.core.display.Markdown object>"
      ]
     },
     "metadata": {},
     "output_type": "display_data"
    }
   ],
   "source": [
    "display(Markdown(f\"\"\"\n",
    "{prop2:0.0%} of works that got at least 5 citations between {focus_start} and {focus_end}\n",
    "    went at least a decade without being cited.\n",
    "{prop3:0.0%} were not cited whatsoever between 2005 and 2015.\n",
    "\"\"\"))"
   ]
  },
  {
   "cell_type": "code",
   "execution_count": 37,
   "metadata": {},
   "outputs": [],
   "source": [
    "cy = db.by('c', 'fy').cits"
   ]
  },
  {
   "cell_type": "code",
   "execution_count": 38,
   "metadata": {},
   "outputs": [],
   "source": [
    "cited = set()\n",
    "\n",
    "for (c,fy), C in cy.items():\n",
    "    if C <= 0:\n",
    "        continue\n",
    "    if focus_start <= fy <= focus_end:\n",
    "        cited.add(c)"
   ]
  },
  {
   "cell_type": "code",
   "execution_count": 39,
   "metadata": {},
   "outputs": [],
   "source": [
    "total_cited = len(cited)"
   ]
  },
  {
   "cell_type": "code",
   "execution_count": 40,
   "metadata": {},
   "outputs": [
    {
     "data": {
      "text/plain": [
       "23410"
      ]
     },
     "execution_count": 40,
     "metadata": {},
     "output_type": "execute_result"
    }
   ],
   "source": [
    "total_cited"
   ]
  },
  {
   "cell_type": "code",
   "execution_count": null,
   "metadata": {},
   "outputs": [],
   "source": [
    "total = 0\n",
    "died = 0\n",
    "for name in cited:\n",
    "    total += 1\n",
    "    B,D = db.trend('c', name).births_deaths(death_cutoff=0.1)\n",
    "    \n",
    "    if len(D):\n",
    "        died += 1"
   ]
  },
  {
   "cell_type": "code",
   "execution_count": null,
   "metadata": {},
   "outputs": [],
   "source": [
    "prop2 = died / total"
   ]
  },
  {
   "cell_type": "code",
   "execution_count": null,
   "metadata": {},
   "outputs": [],
   "source": [
    "prop1, prop2"
   ]
  },
  {
   "cell_type": "code",
   "execution_count": null,
   "metadata": {},
   "outputs": [],
   "source": [
    "cited_after_1990 = set()"
   ]
  },
  {
   "cell_type": "code",
   "execution_count": null,
   "metadata": {},
   "outputs": [],
   "source": [
    "for (c,fy), C in cy.items():\n",
    "    if C <= 0:\n",
    "        continue\n",
    "    if 1990 < fy and c in cited:\n",
    "        cited_after_1990.add(c)"
   ]
  },
  {
   "cell_type": "code",
   "execution_count": null,
   "metadata": {},
   "outputs": [],
   "source": [
    "p1 = 1 - len(cited_after_1990) / len(cited)"
   ]
  },
  {
   "cell_type": "code",
   "execution_count": null,
   "metadata": {},
   "outputs": [],
   "source": [
    "died = 0\n",
    "total = 0\n",
    "\n",
    "for c in cited:\n",
    "    total += 1\n",
    "    ct = db.trend('c', c)\n",
    "    B,D =  ct.births_deaths( death_cutoff=0 )\n",
    "    if len(D):\n",
    "        died += 1"
   ]
  },
  {
   "cell_type": "code",
   "execution_count": null,
   "metadata": {},
   "outputs": [],
   "source": [
    "p2 = died/total"
   ]
  },
  {
   "cell_type": "code",
   "execution_count": null,
   "metadata": {},
   "outputs": [],
   "source": [
    "died = 0\n",
    "total = 0\n",
    "\n",
    "for c in cited:\n",
    "    total += 1\n",
    "    ct = db.trend('c', c)\n",
    "    \n",
    "    if ct.avg_between(2005,2015) >= 1:\n",
    "        died += 1"
   ]
  },
  {
   "cell_type": "code",
   "execution_count": null,
   "metadata": {},
   "outputs": [],
   "source": [
    "p3 = died/total"
   ]
  },
  {
   "cell_type": "code",
   "execution_count": null,
   "metadata": {},
   "outputs": [],
   "source": [
    "p3"
   ]
  },
  {
   "cell_type": "code",
   "execution_count": null,
   "metadata": {},
   "outputs": [],
   "source": [
    "all_avgbet = []\n",
    "\n",
    "died = 0\n",
    "total = 0\n",
    "\n",
    "for c in db.items('c'):\n",
    "    total += 1\n",
    "    ct = db.trend('c', c)\n",
    "    ab = ct.avg_between(2005,2015)\n",
    "    all_avgbet.append(ab)"
   ]
  },
  {
   "cell_type": "code",
   "execution_count": null,
   "metadata": {},
   "outputs": [],
   "source": [
    "p4 = sum( np.array(all_avgbet) > 1 ) / len(all_avgbet)"
   ]
  },
  {
   "cell_type": "code",
   "execution_count": null,
   "metadata": {},
   "outputs": [],
   "source": [
    "p4"
   ]
  },
  {
   "cell_type": "code",
   "execution_count": 29,
   "metadata": {},
   "outputs": [
    {
     "data": {
      "text/markdown": [
       "\n",
       "\n",
       "The lifespan of a cited work is well described in aggregate by a lognormal distribution.\n",
       "The work reaches its maximum after a few years, declines slowly for 5-10 years, eventually recieving its last citation.\n",
       "\n",
       "A few statistics should be sufficient to illustrate that cited works are almost surely headed to the grave, never to be revived.\n",
       "There were 23,410 works cited for the first time in the years 1980 to 1990.\n",
       "6% of these would not receive a single citation after 1990.\n",
       "66% of works cited in the 70s has gone at least a decade without being cited at all.\n",
       "And only 7% received at least 1 citation per year on average between 2005 and 2015.\n",
       "For comparison, 87% of works first cited between 2005 and 2015 received a yearly average of at least 1 citation in that decade.\n"
      ],
      "text/plain": [
       "<IPython.core.display.Markdown object>"
      ]
     },
     "metadata": {},
     "output_type": "display_data"
    }
   ],
   "source": [
    "display(Markdown(f\"\"\"\n",
    "\n",
    "The lifespan of a cited work is well described in aggregate by a lognormal distribution.\n",
    "The work reaches its maximum after a few years, declines slowly for 5-10 years, eventually recieving its last citation.\n",
    "\n",
    "A few statistics should be sufficient to illustrate that cited works are almost surely headed to the grave, never to be revived.\n",
    "There were {total_cited:,} works cited for the first time in the years {focus_start} to {focus_end}.\n",
    "{p1:0.0%} of these would not receive a single citation after 1990.\n",
    "{p2:0.0%} of works cited in the 70s has gone at least a decade without being cited at all.\n",
    "And only {p3:0.0%} received at least 1 citation per year on average between 2005 and 2015.\n",
    "For comparison, {1-p4:0.0%} of works first cited between 2005 and 2015 received a yearly average of at least 1 citation in that decade.\n",
    "\"\"\"))"
   ]
  },
  {
   "cell_type": "markdown",
   "metadata": {},
   "source": [
    "# top 1%"
   ]
  },
  {
   "cell_type": "code",
   "execution_count": 30,
   "metadata": {},
   "outputs": [
    {
     "data": {
      "text/plain": [
       "56401"
      ]
     },
     "execution_count": 30,
     "metadata": {},
     "output_type": "execute_result"
    }
   ],
   "source": [
    "len(all_totals)"
   ]
  },
  {
   "cell_type": "code",
   "execution_count": 31,
   "metadata": {},
   "outputs": [],
   "source": [
    "totns = np.array([x[1] for x in all_totals])\n",
    "\n",
    "top1q = np.quantile(totns, 0.99)\n",
    "top1 = [x for x,c in all_totals if c >= top1q]"
   ]
  },
  {
   "cell_type": "code",
   "execution_count": 55,
   "metadata": {},
   "outputs": [],
   "source": [
    "all_avgbet = []\n",
    "\n",
    "died = 0\n",
    "total = 0\n",
    "\n",
    "for c in top1:\n",
    "    total += 1\n",
    "    ct = db.trend('c', c)\n",
    "    ab = ct.avg_between(2015,2020)\n",
    "    #sb = ct.sum_between(2015,2020)\n",
    "    all_avgbet.append(ab)"
   ]
  },
  {
   "cell_type": "code",
   "execution_count": 56,
   "metadata": {},
   "outputs": [
    {
     "data": {
      "text/plain": [
       "619"
      ]
     },
     "execution_count": 56,
     "metadata": {},
     "output_type": "execute_result"
    }
   ],
   "source": [
    "len(top1)"
   ]
  },
  {
   "cell_type": "code",
   "execution_count": 57,
   "metadata": {},
   "outputs": [
    {
     "data": {
      "text/plain": [
       "619"
      ]
     },
     "execution_count": 57,
     "metadata": {},
     "output_type": "execute_result"
    }
   ],
   "source": [
    "len(all_avgbet)"
   ]
  },
  {
   "cell_type": "code",
   "execution_count": 58,
   "metadata": {},
   "outputs": [],
   "source": [
    "p1 = sum( np.array(all_avgbet) >= 1 ) / len(all_avgbet)"
   ]
  },
  {
   "cell_type": "code",
   "execution_count": 59,
   "metadata": {},
   "outputs": [
    {
     "data": {
      "text/markdown": [
       "\n",
       "56,401 works in this dataset were cited at some point between 1980 and 1990.\n",
       "The top 1% consists of 619 cited works which have at least 18 citations in this decade.\n",
       "Of these 58.5% got at least 1 citation per year 2015 - 2020.\n"
      ],
      "text/plain": [
       "<IPython.core.display.Markdown object>"
      ]
     },
     "metadata": {},
     "output_type": "display_data"
    }
   ],
   "source": [
    "display(Markdown(f\"\"\"\n",
    "{len(all_totals):,} works in this dataset were cited at some point between {focus_start} and {focus_end}.\n",
    "The top 1% consists of {len(all_avgbet)} cited works which have at least {top1q:0.0f} citations in this decade.\n",
    "Of these {p1:0.1%} got at least 1 citation per year 2015 - 2020.\n",
    "\"\"\"))"
   ]
  }
 ],
 "metadata": {
  "kernelspec": {
   "display_name": "Python 3 (ipykernel)",
   "language": "python",
   "name": "python3"
  },
  "language_info": {
   "codemirror_mode": {
    "name": "ipython",
    "version": 3
   },
   "file_extension": ".py",
   "mimetype": "text/x-python",
   "name": "python",
   "nbconvert_exporter": "python",
   "pygments_lexer": "ipython3",
   "version": "3.9.7"
  }
 },
 "nbformat": 4,
 "nbformat_minor": 4
}
